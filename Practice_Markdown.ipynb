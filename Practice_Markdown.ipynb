{
  "cells": [
    {
      "cell_type": "markdown",
      "metadata": {
        "id": "view-in-github",
        "colab_type": "text"
      },
      "source": [
        "<a href=\"https://colab.research.google.com/github/mdominguez2010/fitness-app/blob/main/Practice_Markdown.ipynb\" target=\"_parent\"><img src=\"https://colab.research.google.com/assets/colab-badge.svg\" alt=\"Open In Colab\"/></a>"
      ]
    },
    {
      "cell_type": "markdown",
      "source": [
        "<div align=\"center\">\n",
        "\n",
        "# My Fitness Journey\n",
        "\n",
        "Join me on my personal journey to loose weight, get stronger, fitter, and other fitness goals\n",
        "\n",
        "After years of inconsistency, this is my attempt to permanently make the improvements for sustainable fitness\n",
        "\n",
        "![dumbbell](https://user-images.githubusercontent.com/52106331/148104179-dc255656-1b29-4f22-bc2c-49bf4d64447c.jpg)\n",
        "\n",
        "</div>\n",
        "\n",
        "<div align=\"center\">\n",
        "\n",
        "## Table of Contents\n",
        "\n",
        "[Motivation](#motivation)\n",
        "\n",
        "</div>"
      ],
      "metadata": {
        "id": "vzspW4nAPxSP"
      }
    },
    {
      "cell_type": "markdown",
      "source": [
        "\n",
        "<!-- markdownlint-configure-file {\n",
        "  \"MD013\": {\n",
        "    \"code_blocks\": false,\n",
        "    \"tables\": false\n",
        "  },\n",
        "  \"MD033\": false,\n",
        "  \"MD041\": false\n",
        "} -->"
      ],
      "metadata": {
        "id": "3PbwKRb4P2Wl"
      }
    }
  ],
  "metadata": {
    "kernelspec": {
      "display_name": "Python 3",
      "language": "python",
      "name": "python3"
    },
    "language_info": {
      "codemirror_mode": {
        "name": "ipython",
        "version": 3
      },
      "file_extension": ".py",
      "mimetype": "text/x-python",
      "name": "python",
      "nbconvert_exporter": "python",
      "pygments_lexer": "ipython3",
      "version": "3.7.6"
    },
    "colab": {
      "name": "Practice-Markdown.ipynb",
      "provenance": [],
      "include_colab_link": true
    }
  },
  "nbformat": 4,
  "nbformat_minor": 0
}